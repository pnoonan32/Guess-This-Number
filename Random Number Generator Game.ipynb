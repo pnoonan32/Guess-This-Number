{
 "cells": [
  {
   "cell_type": "code",
   "execution_count": 1,
   "metadata": {},
   "outputs": [],
   "source": [
    "# Guess the number\n",
    "\n",
    "import random\n",
    "from random import randint \n",
    "\n",
    "def try_to_guess_this_number(number):\n",
    "    random.seed(50)\n",
    "    random_number = randint(1,101)\n",
    "    if number == random_number:\n",
    "        print(\"You guessed the number!\")\n",
    "        print(random_number)\n",
    "        print(number)\n",
    "        \n",
    "    elif number < 1 or number > 101:\n",
    "        print(\"Please pick a number between 1 & 100\")\n",
    "        print(number)\n",
    "        \n",
    "    elif number < random_number:\n",
    "            print(\"too low\")\n",
    "            print(number)\n",
    "            \n",
    "    elif number > random_number:\n",
    "            print(\"too high\")\n",
    "            print(number)\n",
    "            "
   ]
  },
  {
   "cell_type": "code",
   "execution_count": 2,
   "metadata": {},
   "outputs": [
    {
     "name": "stdout",
     "output_type": "stream",
     "text": [
      "too low\n",
      "50\n"
     ]
    }
   ],
   "source": [
    "try_to_guess_this_number(50)"
   ]
  },
  {
   "cell_type": "code",
   "execution_count": 3,
   "metadata": {},
   "outputs": [
    {
     "name": "stdout",
     "output_type": "stream",
     "text": [
      "too high\n",
      "98\n"
     ]
    }
   ],
   "source": [
    "try_to_guess_this_number(98)"
   ]
  },
  {
   "cell_type": "code",
   "execution_count": 4,
   "metadata": {},
   "outputs": [
    {
     "name": "stdout",
     "output_type": "stream",
     "text": [
      "too high\n",
      "75\n"
     ]
    }
   ],
   "source": [
    "try_to_guess_this_number(75)"
   ]
  },
  {
   "cell_type": "code",
   "execution_count": 5,
   "metadata": {},
   "outputs": [
    {
     "name": "stdout",
     "output_type": "stream",
     "text": [
      "too low\n",
      "62\n"
     ]
    }
   ],
   "source": [
    "try_to_guess_this_number(62)"
   ]
  },
  {
   "cell_type": "code",
   "execution_count": 6,
   "metadata": {},
   "outputs": [
    {
     "name": "stdout",
     "output_type": "stream",
     "text": [
      "too high\n",
      "68\n"
     ]
    }
   ],
   "source": [
    "try_to_guess_this_number(68)"
   ]
  },
  {
   "cell_type": "code",
   "execution_count": 7,
   "metadata": {},
   "outputs": [
    {
     "name": "stdout",
     "output_type": "stream",
     "text": [
      "too high\n",
      "65\n"
     ]
    }
   ],
   "source": [
    "try_to_guess_this_number(65)"
   ]
  },
  {
   "cell_type": "code",
   "execution_count": 8,
   "metadata": {},
   "outputs": [
    {
     "name": "stdout",
     "output_type": "stream",
     "text": [
      "You guessed the number!\n",
      "64\n",
      "64\n"
     ]
    }
   ],
   "source": [
    "try_to_guess_this_number(64)"
   ]
  },
  {
   "cell_type": "code",
   "execution_count": 9,
   "metadata": {},
   "outputs": [
    {
     "name": "stdout",
     "output_type": "stream",
     "text": [
      "Please pick a number between 1 & 100\n",
      "-1\n"
     ]
    }
   ],
   "source": [
    "try_to_guess_this_number(-1)"
   ]
  },
  {
   "cell_type": "code",
   "execution_count": 10,
   "metadata": {},
   "outputs": [
    {
     "name": "stdout",
     "output_type": "stream",
     "text": [
      "Please pick a number between 1 & 100\n",
      "4893639\n"
     ]
    }
   ],
   "source": [
    "try_to_guess_this_number(4893639)"
   ]
  },
  {
   "cell_type": "code",
   "execution_count": null,
   "metadata": {},
   "outputs": [],
   "source": []
  }
 ],
 "metadata": {
  "kernelspec": {
   "display_name": "Python 3",
   "language": "python",
   "name": "python3"
  },
  "language_info": {
   "codemirror_mode": {
    "name": "ipython",
    "version": 3
   },
   "file_extension": ".py",
   "mimetype": "text/x-python",
   "name": "python",
   "nbconvert_exporter": "python",
   "pygments_lexer": "ipython3",
   "version": "3.6.5"
  }
 },
 "nbformat": 4,
 "nbformat_minor": 2
}
